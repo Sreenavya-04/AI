{
  "nbformat": 4,
  "nbformat_minor": 0,
  "metadata": {
    "colab": {
      "provenance": [],
      "authorship_tag": "ABX9TyPObNpXmFgKLIq9+dDxg0mU",
      "include_colab_link": true
    },
    "kernelspec": {
      "name": "python3",
      "display_name": "Python 3"
    },
    "language_info": {
      "name": "python"
    }
  },
  "cells": [
    {
      "cell_type": "markdown",
      "metadata": {
        "id": "view-in-github",
        "colab_type": "text"
      },
      "source": [
        "<a href=\"https://colab.research.google.com/github/Sreenavya-04/AI/blob/main/Steps_in_ML.ipynb\" target=\"_parent\"><img src=\"https://colab.research.google.com/assets/colab-badge.svg\" alt=\"Open In Colab\"/></a>"
      ]
    },
    {
      "cell_type": "markdown",
      "source": [
        "MACHINE LEARNING STEPS FOR THE PROJECT\n"
      ],
      "metadata": {
        "id": "3VJufLSCh1ZU"
      }
    },
    {
      "cell_type": "markdown",
      "source": [
        "1.Problem Statement\n",
        "2.Data Gathering\n",
        "3.Data Preprocessing\n",
        "4.Feature Engineering\n",
        "5.Feature Selection\n",
        "6.Model Training\n",
        "7.Model Evaluation\n",
        "8.Testing and API development\n",
        "9.Deployment\n"
      ],
      "metadata": {
        "id": "iZ5-qYR6iAwC"
      }
    },
    {
      "cell_type": "code",
      "execution_count": null,
      "metadata": {
        "id": "iqzwr4AYhhdd"
      },
      "outputs": [],
      "source": []
    }
  ]
}